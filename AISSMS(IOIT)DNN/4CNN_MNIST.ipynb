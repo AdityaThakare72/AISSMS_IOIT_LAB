{
  "nbformat": 4,
  "nbformat_minor": 0,
  "metadata": {
    "colab": {
      "provenance": []
    },
    "kernelspec": {
      "name": "python3",
      "display_name": "Python 3"
    },
    "language_info": {
      "name": "python"
    }
  },
  "cells": [
    {
      "cell_type": "code",
      "execution_count": 1,
      "metadata": {
        "colab": {
          "base_uri": "https://localhost:8080/"
        },
        "id": "87hXDE_Iy8JI",
        "outputId": "b7ee2b84-1f14-4fb1-ea22-8f852a274d7d"
      },
      "outputs": [
        {
          "output_type": "stream",
          "name": "stdout",
          "text": [
            "Downloading data from https://storage.googleapis.com/tensorflow/tf-keras-datasets/train-labels-idx1-ubyte.gz\n",
            "29515/29515 [==============================] - 0s 0us/step\n",
            "Downloading data from https://storage.googleapis.com/tensorflow/tf-keras-datasets/train-images-idx3-ubyte.gz\n",
            "26421880/26421880 [==============================] - 0s 0us/step\n",
            "Downloading data from https://storage.googleapis.com/tensorflow/tf-keras-datasets/t10k-labels-idx1-ubyte.gz\n",
            "5148/5148 [==============================] - 0s 0us/step\n",
            "Downloading data from https://storage.googleapis.com/tensorflow/tf-keras-datasets/t10k-images-idx3-ubyte.gz\n",
            "4422102/4422102 [==============================] - 0s 0us/step\n",
            "Epoch 1/10\n",
            "375/375 [==============================] - 45s 110ms/step - loss: 0.6801 - accuracy: 0.7493 - val_loss: 0.4580 - val_accuracy: 0.8326\n",
            "Epoch 2/10\n",
            "375/375 [==============================] - 36s 95ms/step - loss: 0.4247 - accuracy: 0.8447 - val_loss: 0.4110 - val_accuracy: 0.8508\n",
            "Epoch 3/10\n",
            "375/375 [==============================] - 34s 90ms/step - loss: 0.3601 - accuracy: 0.8684 - val_loss: 0.3423 - val_accuracy: 0.8751\n",
            "Epoch 4/10\n",
            "375/375 [==============================] - 36s 95ms/step - loss: 0.3213 - accuracy: 0.8833 - val_loss: 0.3149 - val_accuracy: 0.8862\n",
            "Epoch 5/10\n",
            "375/375 [==============================] - 36s 96ms/step - loss: 0.2991 - accuracy: 0.8917 - val_loss: 0.3027 - val_accuracy: 0.8898\n",
            "Epoch 6/10\n",
            "375/375 [==============================] - 36s 96ms/step - loss: 0.2756 - accuracy: 0.8995 - val_loss: 0.2914 - val_accuracy: 0.8967\n",
            "Epoch 7/10\n",
            "375/375 [==============================] - 36s 96ms/step - loss: 0.2585 - accuracy: 0.9052 - val_loss: 0.2911 - val_accuracy: 0.8946\n",
            "Epoch 8/10\n",
            "375/375 [==============================] - 35s 94ms/step - loss: 0.2409 - accuracy: 0.9126 - val_loss: 0.2806 - val_accuracy: 0.8993\n",
            "Epoch 9/10\n",
            "375/375 [==============================] - 33s 88ms/step - loss: 0.2296 - accuracy: 0.9164 - val_loss: 0.2608 - val_accuracy: 0.9057\n",
            "Epoch 10/10\n",
            "375/375 [==============================] - 36s 95ms/step - loss: 0.2170 - accuracy: 0.9209 - val_loss: 0.2532 - val_accuracy: 0.9088\n",
            "313/313 [==============================] - 2s 7ms/step - loss: 0.2683 - accuracy: 0.9041\n",
            "Test Loss: 0.268309086561203\n",
            "Test Accuracy: 0.9041000008583069\n"
          ]
        }
      ],
      "source": [
        "import numpy as np\n",
        "from tensorflow.keras.datasets import fashion_mnist\n",
        "from tensorflow.keras.models import Sequential\n",
        "from tensorflow.keras.layers import Conv2D, MaxPooling2D, Flatten, Dense\n",
        "from tensorflow.keras.utils import to_categorical\n",
        "\n",
        "# Load the MNIST Fashion dataset\n",
        "(x_train, y_train), (x_test, y_test) = fashion_mnist.load_data()\n",
        "\n",
        "# Normalize pixel values to range between 0 and 1\n",
        "x_train = x_train.astype('float32') / 255.0\n",
        "x_test = x_test.astype('float32') / 255.0\n",
        "\n",
        "# Reshape input data to have a single channel (grayscale) and add channel dimension\n",
        "x_train = np.expand_dims(x_train, axis=-1)\n",
        "x_test = np.expand_dims(x_test, axis=-1)\n",
        "\n",
        "# Convert labels to one-hot encoding\n",
        "num_classes = 10\n",
        "y_train = to_categorical(y_train, num_classes)\n",
        "y_test = to_categorical(y_test, num_classes)\n",
        "\n",
        "# Define the CNN model\n",
        "model = Sequential([\n",
        "    Conv2D(32, (3, 3), activation='relu', input_shape=(28, 28, 1)),\n",
        "    MaxPooling2D((2, 2)),\n",
        "    Conv2D(64, (3, 3), activation='relu'),\n",
        "    MaxPooling2D((2, 2)),\n",
        "    Conv2D(64, (3, 3), activation='relu'),\n",
        "    Flatten(),\n",
        "    Dense(64, activation='relu'),\n",
        "    Dense(num_classes, activation='softmax')\n",
        "])\n",
        "\n",
        "# Compile the model\n",
        "model.compile(optimizer='adam', loss='categorical_crossentropy', metrics=['accuracy'])\n",
        "\n",
        "# Train the model\n",
        "model.fit(x_train, y_train, epochs=10, batch_size=128, validation_split=0.2)\n",
        "\n",
        "# Evaluate the model on the test set\n",
        "loss, accuracy = model.evaluate(x_test, y_test)\n",
        "print(\"Test Loss:\", loss)\n",
        "print(\"Test Accuracy:\", accuracy)\n"
      ]
    },
    {
      "cell_type": "code",
      "source": [],
      "metadata": {
        "id": "va6UJekYzPwA"
      },
      "execution_count": null,
      "outputs": []
    }
  ]
}